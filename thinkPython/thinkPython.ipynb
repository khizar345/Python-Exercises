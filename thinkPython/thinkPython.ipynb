{
 "cells": [
  {
   "cell_type": "code",
   "execution_count": 6,
   "metadata": {},
   "outputs": [
    {
     "data": {
      "text/plain": [
       "945.4499999999999"
      ]
     },
     "execution_count": 6,
     "metadata": {},
     "output_type": "execute_result"
    }
   ],
   "source": [
    "disc_book = 24.95 - (24.95 * 0.4)\n",
    "total_wholesale = (disc_book+3) + 59*(0.75+disc_book)\n",
    "total_wholesale"
   ]
  },
  {
   "cell_type": "code",
   "execution_count": 16,
   "metadata": {},
   "outputs": [
    {
     "data": {
      "text/plain": [
       "7.501666666666667"
      ]
     },
     "execution_count": 16,
     "metadata": {},
     "output_type": "execute_result"
    }
   ],
   "source": [
    "leaving_time = (6*3600)+(52*60)\n",
    "easy = 2*(8*60+15)\n",
    "tempo = 3*(7*60+12)\n",
    "arrival_time_Sec = leaving_time + easy + tempo\n",
    "arrival_time_Hour = arrival_time_Sec/3600\n",
    "arrival_time_Hour"
   ]
  },
  {
   "cell_type": "code",
   "execution_count": 17,
   "metadata": {},
   "outputs": [
    {
     "data": {
      "text/plain": [
       "30.100000000000023"
      ]
     },
     "execution_count": 17,
     "metadata": {},
     "output_type": "execute_result"
    }
   ],
   "source": [
    "0.501666666666667*60"
   ]
  },
  {
   "cell_type": "code",
   "execution_count": 19,
   "metadata": {
    "scrolled": true
   },
   "outputs": [
    {
     "data": {
      "text/plain": [
       "'mont                                                                 y'"
      ]
     },
     "execution_count": 19,
     "metadata": {},
     "output_type": "execute_result"
    }
   ],
   "source": [
    "def right_justify(s):\n",
    "    return s[:-1] + ' ' * (70 - len(s)) + s[-1]\n",
    "right_justify('monty')"
   ]
  },
  {
   "cell_type": "code",
   "execution_count": 52,
   "metadata": {
    "scrolled": false
   },
   "outputs": [
    {
     "name": "stdout",
     "output_type": "stream",
     "text": [
      "+ - - - - + - - - - +\n",
      "|         |         |\n",
      "|         |         |\n",
      "|         |         |\n",
      "|         |         |\n",
      "+ - - - - + - - - - +\n",
      "|         |         |\n",
      "|         |         |\n",
      "|         |         |\n",
      "|         |         |\n",
      "+ - - - - + - - - - +\n"
     ]
    }
   ],
   "source": [
    "def do_twice(f):\n",
    "    f()\n",
    "    f()\n",
    "\n",
    "def do_four(f):\n",
    "    do_twice(f)\n",
    "    do_twice(f)\n",
    "\n",
    "def print_beam():\n",
    "    print('+ - - - -', end=\" \")\n",
    "\n",
    "def print_post():\n",
    "    print('|        ',end=\" \")\n",
    "\n",
    "def print_beams():\n",
    "    do_twice(print_beam)\n",
    "    print('+')\n",
    "\n",
    "def print_posts():\n",
    "    do_twice(print_post)\n",
    "    print('|') \n",
    "\n",
    "def print_row():\n",
    "    print_beams()\n",
    "    do_four(print_posts)\n",
    "\n",
    "def print_grid():\n",
    "    do_twice(print_row)\n",
    "    print_beams()\n",
    "\n",
    "print_grid()"
   ]
  },
  {
   "cell_type": "code",
   "execution_count": 107,
   "metadata": {
    "scrolled": true
   },
   "outputs": [
    {
     "name": "stdout",
     "output_type": "stream",
     "text": [
      "+ - - - - + - - - - + - - - - +\n",
      "|         |         |         |\n",
      "|         |         |         |\n",
      "|         |         |         |\n",
      "|         |         |         |\n",
      "+ - - - - + - - - - + - - - - +\n",
      "|         |         |         |\n",
      "|         |         |         |\n",
      "|         |         |         |\n",
      "|         |         |         |\n",
      "+ - - - - + - - - - + - - - - +\n",
      "|         |         |         |\n",
      "|         |         |         |\n",
      "|         |         |         |\n",
      "|         |         |         |\n",
      "+ - - - - + - - - - + - - - - +\n"
     ]
    }
   ],
   "source": [
    "def do_twice(f):\n",
    "    f()\n",
    "    f()\n",
    "\n",
    "def do_four(f):\n",
    "    do_twice(f)\n",
    "    do_twice(f)\n",
    "    \n",
    "def print_beam():\n",
    "    print('+ - - - -',end=\" \")\n",
    "\n",
    "def print_post():\n",
    "    print('|        ',end=\" \")\n",
    "    \n",
    "def print_beams():\n",
    "    do_twice(print_beam)\n",
    "    print_beam()\n",
    "    print('+')\n",
    "    \n",
    "#print_beams()\n",
    "\n",
    "def print_posts():\n",
    "    do_twice(print_post)\n",
    "    print_post()\n",
    "    print('|') \n",
    "\n",
    "def print_row():\n",
    "    print_beams()\n",
    "    do_four(print_posts)\n",
    "    \n",
    "#print_row()\n",
    "\n",
    "def print_grid():\n",
    "    do_twice(print_row)\n",
    "    print_beams()\n",
    "    do_four(print_posts)\n",
    "    print_beams()\n",
    "    \n",
    "print_grid()    \n",
    "\n",
    "\n",
    "#do_twice(print_row)\n",
    "#print_beams()\n",
    "#do_four(print_posts)\n",
    "#print_beams()"
   ]
  },
  {
   "cell_type": "code",
   "execution_count": null,
   "metadata": {
    "scrolled": true
   },
   "outputs": [],
   "source": [
    "import turtle\n",
    "bob = turtle.Turtle()\n",
    "for i in range(4):\n",
    "    bob.fd(100)\n",
    "    bob.lt(90)\n",
    "turtle.mainloop()\n",
    "\n",
    "import os\n",
    "os._exit(00)"
   ]
  },
  {
   "cell_type": "code",
   "execution_count": null,
   "metadata": {},
   "outputs": [],
   "source": [
    "import turtle\n",
    "def square(t):\n",
    "    t = turtle.Turtle()\n",
    "    for i in range(4):\n",
    "        t.fd(100)\n",
    "        t.lt(90)\n",
    "    turtle.mainloop()\n",
    "\n",
    "bob = turtle.Turtle()\n",
    "square(bob)\n",
    "\n",
    "import os\n",
    "os._exit(00)"
   ]
  },
  {
   "cell_type": "code",
   "execution_count": null,
   "metadata": {},
   "outputs": [],
   "source": [
    "import turtle\n",
    "def square(t, length):\n",
    "    t = turtle.Turtle()\n",
    "    for i in range(4):\n",
    "        t.fd(length)\n",
    "        t.lt(90)\n",
    "    turtle.mainloop()\n",
    "\n",
    "bob = turtle.Turtle()\n",
    "square(bob, 25)\n",
    "\n",
    "import os\n",
    "os._exit(00)"
   ]
  },
  {
   "cell_type": "code",
   "execution_count": null,
   "metadata": {},
   "outputs": [],
   "source": [
    "import turtle\n",
    "def polygon(t, length, n):\n",
    "    t = turtle.Turtle()\n",
    "    angle = 360/n\n",
    "    for i in range(n):\n",
    "        t.fd(length)\n",
    "        t.lt(angle)\n",
    "    turtle.mainloop()\n",
    "\n",
    "bob = turtle.Turtle()\n",
    "polygon(bob, 70, 7)\n",
    "\n",
    "import os\n",
    "os._exit(00)"
   ]
  },
  {
   "cell_type": "code",
   "execution_count": null,
   "metadata": {},
   "outputs": [],
   "source": [
    "import turtle\n",
    "import math\n",
    "\n",
    "def polygon(t, length, n):\n",
    "    t = turtle.Turtle()\n",
    "    angle = 360/n\n",
    "    for i in range(n):\n",
    "        t.fd(length)\n",
    "        t.lt(angle)\n",
    "    turtle.mainloop()\n",
    "    \n",
    "def circle(t, r):\n",
    "    t = turtle.Turtle()\n",
    "    circumference = 2 * math.pi *r\n",
    "    n = 120\n",
    "    length = circumference/n\n",
    "    polygon(t, length, n)\n",
    "\n",
    "bob = turtle.Turtle()\n",
    "circle(bob, 120)\n",
    "\n",
    "\n",
    "import os\n",
    "os._exit(00)"
   ]
  },
  {
   "cell_type": "code",
   "execution_count": null,
   "metadata": {},
   "outputs": [],
   "source": [
    "import turtle\n",
    "import math\n",
    "\n",
    "def polygon(t, length, n):\n",
    "    t = turtle.Turtle()\n",
    "    angle = 360/n\n",
    "    for i in range(n):\n",
    "        t.fd(length)\n",
    "        t.lt(angle)\n",
    "    turtle.mainloop()\n",
    "    \n",
    "def circle(t, r):\n",
    "    t = turtle.Turtle()\n",
    "    circumference = 2 * math.pi *r\n",
    "    n = int(circumference/3)+3\n",
    "    length = circumference/n\n",
    "    polygon(t, length, n)\n",
    "\n",
    "bob = turtle.Turtle()\n",
    "circle(bob, 120)\n",
    "\n",
    "\n",
    "import os\n",
    "os._exit(00)"
   ]
  },
  {
   "cell_type": "code",
   "execution_count": 35,
   "metadata": {},
   "outputs": [
    {
     "name": "stdout",
     "output_type": "stream",
     "text": [
      "GMT is [ 9 hrs : 24 mins : 22 sec ] right now! | Days since epoch:  19130\n"
     ]
    }
   ],
   "source": [
    "import time \n",
    "hours = time.time()/3600\n",
    "days = hours/24\n",
    "years = days/365\n",
    "current_day = (years%1)*365\n",
    "current_hour = (current_day%1)*24\n",
    "current_minute = (current_hour%1)*60\n",
    "current_second = (current_minute%1)*60\n",
    "\n",
    "print('GMT is','[',int(current_hour),'hrs',':', int(current_minute),'mins',\":\", int(current_second),'sec',']','right now!', \"| Days since epoch: \", int(days))"
   ]
  },
  {
   "cell_type": "code",
   "execution_count": 43,
   "metadata": {},
   "outputs": [
    {
     "name": "stdout",
     "output_type": "stream",
     "text": [
      "Enter value for a: 1\n",
      "Enter value for b: 1\n",
      "Enter value for c: 1\n",
      "Enter value for n: 1\n",
      "No, that doesn't work\n"
     ]
    }
   ],
   "source": [
    "def check_fermat(a,b,c,n):\n",
    "    if n>2 and (a**n) + (b**n) == (c**2):\n",
    "        print(\"Holy Shit Sherlock, Fermat was WRONG!\")\n",
    "    else:\n",
    "        print(\"No, that doesn't work\")\n",
    "\n",
    "a = int(input(\"Enter value for a: \"))\n",
    "b = int(input(\"Enter value for b: \"))\n",
    "c = int(input(\"Enter value for c: \"))\n",
    "n = int(input(\"Enter value for n: \"))\n",
    "\n",
    "check_fermat(a,b,c,n)"
   ]
  },
  {
   "cell_type": "code",
   "execution_count": 51,
   "metadata": {},
   "outputs": [
    {
     "name": "stdout",
     "output_type": "stream",
     "text": [
      "Check to see if you can make a triangle by inputting the lenght of each side!\n",
      "Enter value for one side: 8\n",
      "Enter value for another side: 9\n",
      "Enter value for the last side: 2\n",
      "yes, you can!\n"
     ]
    }
   ],
   "source": [
    "def is_triangle(x,y,z):\n",
    "    if z>x+y or x>y+z or y>x+z:\n",
    "        print('no, you cannot!')\n",
    "    else:\n",
    "        print('yes, you can!')\n",
    "        \n",
    "print('Check to see if you can make a triangle by inputting the lenght of each side!')\n",
    "x = int(input(\"Enter value for one side: \"))\n",
    "y = int(input(\"Enter value for another side: \"))\n",
    "z = int(input(\"Enter value for the last side: \"))       \n",
    "is_triangle(x,y,z)"
   ]
  },
  {
   "cell_type": "code",
   "execution_count": 54,
   "metadata": {},
   "outputs": [
    {
     "name": "stdout",
     "output_type": "stream",
     "text": [
      "6\n"
     ]
    }
   ],
   "source": [
    "def recurse(n, s):\n",
    "    if n == 0:\n",
    "        print(s)\n",
    "    else:\n",
    "        recurse(n-1, n+s)\n",
    "        \n",
    "recurse(3,0)"
   ]
  },
  {
   "cell_type": "code",
   "execution_count": null,
   "metadata": {},
   "outputs": [],
   "source": [
    "def recurse(n, s):\n",
    "    if n == 0:\n",
    "        print(s)\n",
    "    else:\n",
    "        recurse(n-1, n+s)\n",
    "        \n",
    "recurse(-1,0)\n",
    "\n",
    "#infinite recursion"
   ]
  },
  {
   "cell_type": "code",
   "execution_count": 4,
   "metadata": {},
   "outputs": [
    {
     "name": "stdout",
     "output_type": "stream",
     "text": [
      "9 90\n",
      "8100\n"
     ]
    }
   ],
   "source": [
    "def b(z): #total variable from c(x,y,z) function\n",
    "    prod = a(z, z) #the function a(x,y) with z and z passed as arguments\n",
    "    print(z, prod)\n",
    "    return prod\n",
    "\n",
    "def a(x,y):\n",
    "    x = x+1\n",
    "    return x*y\n",
    "\n",
    "def c(x, y, z):\n",
    "    total = x + y + z\n",
    "    square = b(total)**2\n",
    "    return square\n",
    "\n",
    "x = 1\n",
    "y = x+1\n",
    "print(c(x, y+3, x+y))"
   ]
  },
  {
   "cell_type": "code",
   "execution_count": 10,
   "metadata": {},
   "outputs": [
    {
     "data": {
      "text/plain": [
       "125"
      ]
     },
     "execution_count": 10,
     "metadata": {},
     "output_type": "execute_result"
    }
   ],
   "source": [
    "def ack(m,n):\n",
    "    if m == 0:\n",
    "        return n+1\n",
    "    elif m>0 and n==0:\n",
    "        return ack(m-1, 1)\n",
    "    elif m>0 and n>0:\n",
    "        return ack(m-1, ack(m,n-1)) \n",
    "    \n",
    "ack(3, 4)    \n",
    "#infinite recursion for larger values"
   ]
  },
  {
   "cell_type": "code",
   "execution_count": 26,
   "metadata": {},
   "outputs": [
    {
     "data": {
      "text/plain": [
       "1"
      ]
     },
     "execution_count": 26,
     "metadata": {},
     "output_type": "execute_result"
    }
   ],
   "source": [
    "def gcd(a,b):\n",
    "    if(b==0):\n",
    "        return a\n",
    "    else:\n",
    "        return gcd(b, a%b )\n",
    "    \n",
    "gcd(4,3)"
   ]
  },
  {
   "cell_type": "code",
   "execution_count": 67,
   "metadata": {},
   "outputs": [
    {
     "name": "stdout",
     "output_type": "stream",
     "text": [
      "a    mysqrt(a)            math.sqrt(a)\n",
      "-    ---------            ------------\n",
      "1    1.0                  1.0                                  0.0\n",
      "2    1.414213562373095                  1.4142135623730951                                  0.5857864376269049\n",
      "3    1.7320508075688772                  1.7320508075688772                                  1.2679491924311228\n",
      "4    2.0                  2.0                                  2.0\n",
      "5    2.23606797749979                  2.23606797749979                                  2.76393202250021\n",
      "6    2.449489742783178                  2.449489742783178                                  3.550510257216822\n",
      "7    2.6457513110645907                  2.6457513110645907                                  4.354248688935409\n",
      "8    2.82842712474619                  2.8284271247461903                                  5.17157287525381\n",
      "9    3.0                  3.0                                  6.0\n"
     ]
    }
   ],
   "source": [
    "import math\n",
    "\n",
    "def mysqrt(a, x=4):\n",
    "    \n",
    "    while True:\n",
    "        \n",
    "        y = (x + a/x) / 2\n",
    "        if y == x:\n",
    "            break\n",
    "        x = y\n",
    "    \n",
    "    print(a, '  ' , x, ' '*16, math.sqrt(a),' '*32,  a-math.sqrt(a))\n",
    "    \n",
    "print('a    mysqrt(a)' , ' '*10 , 'math.sqrt(a)')\n",
    "print('-    ---------' , ' '*10, '------------')\n",
    "for i in range(1,10):\n",
    "    mysqrt(i)\n",
    "        "
   ]
  },
  {
   "cell_type": "code",
   "execution_count": 68,
   "metadata": {},
   "outputs": [
    {
     "data": {
      "text/plain": [
       "7"
      ]
     },
     "execution_count": 68,
     "metadata": {},
     "output_type": "execute_result"
    }
   ],
   "source": [
    "eval('1 + 2 * 3')"
   ]
  },
  {
   "cell_type": "code",
   "execution_count": 2,
   "metadata": {},
   "outputs": [
    {
     "name": "stdout",
     "output_type": "stream",
     "text": [
      "1+1\n",
      "2\n",
      "2+2\n",
      "4\n",
      "'done'\n",
      "done\n"
     ]
    }
   ],
   "source": [
    "def eval_loop():\n",
    "    while True:\n",
    "        x = eval(input(''))\n",
    "        if x == 'done':\n",
    "            break\n",
    "        print(x)\n",
    "eval_loop()\n",
    "    "
   ]
  },
  {
   "cell_type": "code",
   "execution_count": 1,
   "metadata": {},
   "outputs": [
    {
     "name": "stdout",
     "output_type": "stream",
     "text": [
      " done\n"
     ]
    }
   ],
   "source": [
    "def xyz():\n",
    "    while True:\n",
    "        x = input(' ')\n",
    "        if x == 'done':\n",
    "            break\n",
    "        print(x)\n",
    "        \n",
    "xyz()"
   ]
  },
  {
   "cell_type": "code",
   "execution_count": 6,
   "metadata": {},
   "outputs": [
    {
     "name": "stdout",
     "output_type": "stream",
     "text": [
      "3.141592653589793\n"
     ]
    }
   ],
   "source": [
    "import math\n",
    "\n",
    "\n",
    "def factorial(n):\n",
    "    \"\"\"Computes factorial of n.\"\"\"\n",
    "    if n == 0:\n",
    "        return 1\n",
    "    else:\n",
    "        recurse = factorial(n-1)\n",
    "        result = n * recurse\n",
    "        return result\n",
    "\n",
    "\n",
    "def estimate_pi():\n",
    "    \"\"\"Computes an estimate of pi.\n",
    "\n",
    "    Algorithm due to Srinivasa Ramanujan, from \n",
    "    http://en.wikipedia.org/wiki/Pi\n",
    "    \"\"\"\n",
    "    total = 0\n",
    "    k = 0\n",
    "    factor = 2 * math.sqrt(2) / 9801\n",
    "    while True:\n",
    "        num = factorial(4*k) * (1103 + 26390*k)\n",
    "        den = factorial(k)**4 * 396**(4*k)\n",
    "        term = factor * num / den\n",
    "        total += term\n",
    "        \n",
    "        if abs(term) < 1e-15: \n",
    "            break\n",
    "        k += 1\n",
    "\n",
    "    return 1 / total\n",
    "\n",
    "print(estimate_pi())"
   ]
  },
  {
   "cell_type": "code",
   "execution_count": 20,
   "metadata": {},
   "outputs": [
    {
     "data": {
      "text/plain": [
       "9"
      ]
     },
     "execution_count": 20,
     "metadata": {},
     "output_type": "execute_result"
    }
   ],
   "source": [
    "def nested_sum(L):\n",
    "    total = 0  # don't use `sum` as a variable name\n",
    "    for i in L:\n",
    "        if isinstance(i, list):  # checks if `i` is a list\n",
    "            total += nested_sum(i)\n",
    "        else:\n",
    "            total += i\n",
    "    return total\n",
    "\n",
    "nested_sum([[1,2,3],[3]])"
   ]
  },
  {
   "cell_type": "code",
   "execution_count": 24,
   "metadata": {},
   "outputs": [
    {
     "data": {
      "text/plain": [
       "9"
      ]
     },
     "execution_count": 24,
     "metadata": {},
     "output_type": "execute_result"
    }
   ],
   "source": [
    "def nested_sum(a) :\n",
    "    total = 0\n",
    "    for item in a :\n",
    "        try:\n",
    "            total += item\n",
    "        except TypeError:\n",
    "            total += nested_sum(item)\n",
    "    return total\n",
    "\n",
    "nested_sum([[1,2,3],[3]])"
   ]
  },
  {
   "cell_type": "code",
   "execution_count": 11,
   "metadata": {},
   "outputs": [
    {
     "data": {
      "text/plain": [
       "generator"
      ]
     },
     "execution_count": 11,
     "metadata": {},
     "output_type": "execute_result"
    }
   ],
   "source": [
    "def accumu(lis): #cumulative sum of a list\n",
    "    total = 0\n",
    "    for x in lis:\n",
    "        total += x\n",
    "        yield total\n",
    "type(accumu([4,6,12]))"
   ]
  },
  {
   "cell_type": "code",
   "execution_count": 40,
   "metadata": {},
   "outputs": [
    {
     "data": {
      "text/plain": [
       "[4, 5, 6, 7]"
      ]
     },
     "execution_count": 40,
     "metadata": {},
     "output_type": "execute_result"
    }
   ],
   "source": [
    "def chop(t):\n",
    "    for i in t:\n",
    "        t.pop(0) and t.pop()\n",
    "        return t\n",
    "chop([3,4,5,6,7,78])"
   ]
  },
  {
   "cell_type": "code",
   "execution_count": 41,
   "metadata": {},
   "outputs": [
    {
     "data": {
      "text/plain": [
       "['s',\n",
       " 'o',\n",
       " 'm',\n",
       " 'e',\n",
       " 'b',\n",
       " 'o',\n",
       " 'd',\n",
       " 'y',\n",
       " ' ',\n",
       " 'o',\n",
       " 'n',\n",
       " 'c',\n",
       " 'e',\n",
       " ' ',\n",
       " 't',\n",
       " 'o',\n",
       " 'l',\n",
       " 'd',\n",
       " ' ',\n",
       " 'm',\n",
       " 'e']"
      ]
     },
     "execution_count": 41,
     "metadata": {},
     "output_type": "execute_result"
    }
   ],
   "source": [
    "list('somebody once told me')"
   ]
  },
  {
   "cell_type": "code",
   "execution_count": 61,
   "metadata": {},
   "outputs": [
    {
     "name": "stdout",
     "output_type": "stream",
     "text": [
      "['n', 's', 's', 'u']\n",
      "['n', 's', 's', 'u']\n"
     ]
    },
    {
     "data": {
      "text/plain": [
       "True"
      ]
     },
     "execution_count": 61,
     "metadata": {},
     "output_type": "execute_result"
    }
   ],
   "source": [
    "def is_anagram(s,t):\n",
    "    print(sorted(s))\n",
    "    print(sorted(t))\n",
    "    if sorted(s) == sorted(t):\n",
    "        return True\n",
    "    else:\n",
    "        return False\n",
    "\n",
    "is_anagram('suns', 'snus')"
   ]
  },
  {
   "cell_type": "code",
   "execution_count": 15,
   "metadata": {},
   "outputs": [
    {
     "name": "stdout",
     "output_type": "stream",
     "text": [
      "After 1000 simulations\n",
      "with 23 students\n",
      "there were 515 simulations with at least one match\n"
     ]
    }
   ],
   "source": [
    "import random\n",
    "\n",
    "def has_duplicates(t):\n",
    "    \"\"\"Returns True if any element appears more than once in (t),\n",
    "    False otherwise.\"\"\"\n",
    "    s = t[:]\n",
    "    s.sort()\n",
    "    for i in range(len(s)-1):\n",
    "        if s[i] == s[i+1]:\n",
    "            return True\n",
    "    return False\n",
    "\n",
    "\n",
    "def random_bdays(n):\n",
    "    \"\"\"Returns a list of integers between 1 and 365, with length (n).\"\"\"\n",
    "    t = []\n",
    "    for i in range(n):\n",
    "        bday = random.randint(1, 365)\n",
    "        t.append(bday)\n",
    "    return t\n",
    "\n",
    "\n",
    "def count_matches(students, samples):\n",
    "    \"\"\"Generates (samples) samples of (students) students, and counts\n",
    "    how many of them have at least one pair of students with the same bday.\"\"\"\n",
    "    count = 0\n",
    "    for i in range(samples):\n",
    "        t = random_bdays(students)\n",
    "        if has_duplicates(t):\n",
    "            count += 1\n",
    "    return count\n",
    "\n",
    "\"\"\"run the birthday simulation 1000 times and print the number of matches\"\"\"\n",
    "num_students = 23\n",
    "num_simulations = 1000\n",
    "count = count_matches(num_students, num_simulations)\n",
    "\n",
    "print('After %d simulations' % num_simulations)\n",
    "print('with %d students' % num_students)\n",
    "print('there were %d simulations with at least one match' % count)"
   ]
  },
  {
   "cell_type": "code",
   "execution_count": 43,
   "metadata": {},
   "outputs": [
    {
     "name": "stdout",
     "output_type": "stream",
     "text": [
      "in a class of 23 students, the probabality of any two having the same birthday is 50.7297 %.\n"
     ]
    }
   ],
   "source": [
    "def birthday_match(n):\n",
    "    p = 1\n",
    "    for i in range(n):\n",
    "        p = p*((365-i)/365)\n",
    "    p = 100 - round(100*p, 4)\n",
    "    return p\n",
    "\n",
    "for n in range(1,24):\n",
    "    (n, birthday_match(n))\n",
    "    #print('in',n,'number of students, the probabality of any two students having the same birthday is:', birthday_NoMatch(n), '%')\n",
    "    \n",
    "    \n",
    "print('in a class of 23 students, the probabality of any two having the same birthday is',birthday_match(n),'%.')"
   ]
  },
  {
   "cell_type": "code",
   "execution_count": 44,
   "metadata": {},
   "outputs": [
    {
     "data": {
      "text/plain": [
       "[80,\n",
       " 211,\n",
       " 234,\n",
       " 346,\n",
       " 223,\n",
       " 79,\n",
       " 190,\n",
       " 44,\n",
       " 230,\n",
       " 227,\n",
       " 130,\n",
       " 157,\n",
       " 332,\n",
       " 76,\n",
       " 29,\n",
       " 239,\n",
       " 211,\n",
       " 335,\n",
       " 233,\n",
       " 363,\n",
       " 170,\n",
       " 262,\n",
       " 130]"
      ]
     },
     "execution_count": 44,
     "metadata": {},
     "output_type": "execute_result"
    }
   ],
   "source": [
    "def random_bdays(n):\n",
    "    \"\"\"Returns a list of random integers between 1 and 365, with length (n). the n can be number of students \n",
    "       which is 23 in this case\"\"\"\n",
    "    t = []\n",
    "    for i in range(n):\n",
    "        bday = random.randint(1, 365)\n",
    "        t.append(bday)\n",
    "    return t\n",
    "\n",
    "random_bdays(23)"
   ]
  },
  {
   "cell_type": "code",
   "execution_count": 50,
   "metadata": {},
   "outputs": [
    {
     "name": "stdout",
     "output_type": "stream",
     "text": [
      "[1, 1, 2, 2, 2, 2, 2, 3, 4, 4, 4, 4, 5, 5, 5, 5, 5, 6, 6, 7, 7, 7, 8, 8, 8, 9, 9, 10, 45, 45, 986]\n",
      "2\n"
     ]
    },
    {
     "data": {
      "text/plain": [
       "31"
      ]
     },
     "execution_count": 50,
     "metadata": {},
     "output_type": "execute_result"
    }
   ],
   "source": [
    "import bisect\n",
    "a = [4,5,8,1,2,5,3,4,2,4,6,9,7,8,5,2,1,5,4,7,8,9,6,2,10,45,45,7,986,5,2]\n",
    "a.sort()\n",
    "print(a)\n",
    "i = bisect.bisect_left(a,2)\n",
    "print(i)\n",
    "len(a)"
   ]
  },
  {
   "cell_type": "code",
   "execution_count": 75,
   "metadata": {},
   "outputs": [],
   "source": [
    "import math\n",
    "\n",
    "class Line:\n",
    "    \n",
    "    def __init__(self, coor1, coor2):\n",
    "        self.coor1 = coor1\n",
    "        self.coor2 = coor2\n",
    "    \n",
    "    def distance(self):\n",
    "        x1, y1 = self.coor1\n",
    "        x2, y2 = self.coor2\n",
    "        \n",
    "        #return math.sqrt((x2-x1)**2 + (y2-y1)**2)\n",
    "        return math.sqrt(((self.coor2[0]- self.coor1[0])**2) + ((self.coor2[1]- self.coor1[1])**2))\n",
    "    \n",
    "    def slope(self):\n",
    "        return (self.coor2[1]- self.coor1[1])/(self.coor2[0]- self.coor1[0])\n"
   ]
  },
  {
   "cell_type": "code",
   "execution_count": 76,
   "metadata": {},
   "outputs": [],
   "source": [
    "coordinate1 = (3,2)\n",
    "coordinate2 = (8,10)\n",
    "\n",
    "li = Line(coordinate1, coordinate2)"
   ]
  },
  {
   "cell_type": "code",
   "execution_count": 77,
   "metadata": {},
   "outputs": [
    {
     "data": {
      "text/plain": [
       "9.433981132056603"
      ]
     },
     "execution_count": 77,
     "metadata": {},
     "output_type": "execute_result"
    }
   ],
   "source": [
    "li.distance()"
   ]
  },
  {
   "cell_type": "code",
   "execution_count": 78,
   "metadata": {},
   "outputs": [
    {
     "data": {
      "text/plain": [
       "1.6"
      ]
     },
     "execution_count": 78,
     "metadata": {},
     "output_type": "execute_result"
    }
   ],
   "source": [
    "li.slope()"
   ]
  },
  {
   "cell_type": "code",
   "execution_count": 49,
   "metadata": {},
   "outputs": [],
   "source": [
    "import math\n",
    "\n",
    "class Cylinder:\n",
    "    \n",
    "    def __init__(self, height=1, radius=1):\n",
    "        self.height = height\n",
    "        self.radius = radius\n",
    "    \n",
    "    def volume(self):\n",
    "        return math.pi * (self.radius**2) * self.height\n",
    "    \n",
    "    def surface_area(self):\n",
    "        return (2 * math.pi * self.radius * self.height) + (2 * math.pi * (self.radius**2))"
   ]
  },
  {
   "cell_type": "code",
   "execution_count": 50,
   "metadata": {},
   "outputs": [],
   "source": [
    "c = Cylinder(2,3)"
   ]
  },
  {
   "cell_type": "code",
   "execution_count": 51,
   "metadata": {},
   "outputs": [
    {
     "data": {
      "text/plain": [
       "56.548667764616276"
      ]
     },
     "execution_count": 51,
     "metadata": {},
     "output_type": "execute_result"
    }
   ],
   "source": [
    "c.volume()"
   ]
  },
  {
   "cell_type": "code",
   "execution_count": 52,
   "metadata": {},
   "outputs": [
    {
     "data": {
      "text/plain": [
       "94.24777960769379"
      ]
     },
     "execution_count": 52,
     "metadata": {},
     "output_type": "execute_result"
    }
   ],
   "source": [
    "c.surface_area()"
   ]
  },
  {
   "cell_type": "code",
   "execution_count": 22,
   "metadata": {},
   "outputs": [],
   "source": [
    "class Account:\n",
    "    \n",
    "    def __init__(self, owner, balance):\n",
    "        self.owner = owner\n",
    "        self.balance = balance\n",
    "        \n",
    "    def __str__(self):\n",
    "        return f\"Account Owner:   {self.owner} \\nAccount Balance: ${self.balance}\"\n",
    "    \n",
    "    def deposit(self, amount):\n",
    "        self.balance = self.balance + amount\n",
    "        print('Deposit Accepted. ${} added to your account!'.format(amount))\n",
    "    \n",
    "    def withdrawal(self, amount):\n",
    "        if self.balance > amount:\n",
    "            self.balance = self.balance - amount\n",
    "            print('Withdrawal Accepted. ${} withdrawn from your account!'.format(amount))\n",
    "        else:\n",
    "            print('Funds Unavailable!')        "
   ]
  },
  {
   "cell_type": "code",
   "execution_count": 23,
   "metadata": {},
   "outputs": [],
   "source": [
    "acct1 = Account('Khizar', 100)"
   ]
  },
  {
   "cell_type": "code",
   "execution_count": 24,
   "metadata": {},
   "outputs": [
    {
     "name": "stdout",
     "output_type": "stream",
     "text": [
      "Account Owner:   Khizar \n",
      "Account Balance: $100\n"
     ]
    }
   ],
   "source": [
    "print(acct1)"
   ]
  },
  {
   "cell_type": "code",
   "execution_count": 139,
   "metadata": {},
   "outputs": [
    {
     "data": {
      "text/plain": [
       "'Khizar'"
      ]
     },
     "execution_count": 139,
     "metadata": {},
     "output_type": "execute_result"
    }
   ],
   "source": [
    "acct1.owner"
   ]
  },
  {
   "cell_type": "code",
   "execution_count": 140,
   "metadata": {},
   "outputs": [
    {
     "data": {
      "text/plain": [
       "100"
      ]
     },
     "execution_count": 140,
     "metadata": {},
     "output_type": "execute_result"
    }
   ],
   "source": [
    "acct1.balance"
   ]
  },
  {
   "cell_type": "code",
   "execution_count": 141,
   "metadata": {},
   "outputs": [
    {
     "name": "stdout",
     "output_type": "stream",
     "text": [
      "Deposit Accepted. $50 added to your account!\n"
     ]
    }
   ],
   "source": [
    "acct1.deposit(50)"
   ]
  },
  {
   "cell_type": "code",
   "execution_count": 142,
   "metadata": {},
   "outputs": [
    {
     "data": {
      "text/plain": [
       "150"
      ]
     },
     "execution_count": 142,
     "metadata": {},
     "output_type": "execute_result"
    }
   ],
   "source": [
    "acct1.balance"
   ]
  },
  {
   "cell_type": "code",
   "execution_count": 143,
   "metadata": {},
   "outputs": [
    {
     "name": "stdout",
     "output_type": "stream",
     "text": [
      "Withdrawal Accepted. $75 withdrawn from your account!\n"
     ]
    }
   ],
   "source": [
    "acct1.withdrawal(75)"
   ]
  },
  {
   "cell_type": "code",
   "execution_count": 144,
   "metadata": {},
   "outputs": [
    {
     "data": {
      "text/plain": [
       "75"
      ]
     },
     "execution_count": 144,
     "metadata": {},
     "output_type": "execute_result"
    }
   ],
   "source": [
    "acct1.balance"
   ]
  },
  {
   "cell_type": "code",
   "execution_count": 145,
   "metadata": {},
   "outputs": [
    {
     "name": "stdout",
     "output_type": "stream",
     "text": [
      "Funds Unavailable!\n"
     ]
    }
   ],
   "source": [
    "acct1.withdrawal(500)"
   ]
  },
  {
   "cell_type": "code",
   "execution_count": 146,
   "metadata": {},
   "outputs": [
    {
     "name": "stdout",
     "output_type": "stream",
     "text": [
      "Account Owner:   Khizar \n",
      "Account Balance: $75\n"
     ]
    }
   ],
   "source": [
    "print(acct1)"
   ]
  },
  {
   "cell_type": "code",
   "execution_count": 149,
   "metadata": {},
   "outputs": [],
   "source": [
    "class Kangaroo:\n",
    "    \n",
    "    def __init__(self, pouch_contents = []):\n",
    "        self.pouch_contents = pouch_contents\n",
    "    \n",
    "    def put_in_pouch(self, t):\n",
    "        return self.pouch_contents.append(t)\n",
    "    \n",
    "    def __str__(self):\n",
    "        return f\"contents of the pouch are {t}\"\n"
   ]
  },
  {
   "cell_type": "code",
   "execution_count": 151,
   "metadata": {},
   "outputs": [
    {
     "name": "stdout",
     "output_type": "stream",
     "text": [
      "Roo has pouch contents:\n",
      "    'wallet'\n",
      "    'car keys'\n",
      "    <__main__.Kangaroo object at 0x000001F27A33C9C8>\n"
     ]
    }
   ],
   "source": [
    "class Kangaroo:\n",
    "    \"\"\"A Kangaroo is a marsupial.\"\"\"\n",
    "    \n",
    "    def __init__(self, name, contents=[]):\n",
    "        \"\"\"Initialize the pouch contents.\n",
    "\n",
    "        name: string\n",
    "        contents: initial pouch contents.\n",
    "        \"\"\"\n",
    "        self.name = name\n",
    "        self.pouch_contents = contents\n",
    "\n",
    "    def __str__(self):\n",
    "        \"\"\"Return a string representaion of this Kangaroo.\n",
    "        \"\"\"\n",
    "        t = [ self.name + ' has pouch contents:' ]\n",
    "        for obj in self.pouch_contents:\n",
    "            s = '    ' + object.__str__(obj)\n",
    "            t.append(s)\n",
    "        return '\\n'.join(t)\n",
    "\n",
    "    def put_in_pouch(self, item):\n",
    "        \"\"\"Adds a new item to the pouch contents.\n",
    "\n",
    "        item: object to be added\n",
    "        \"\"\"\n",
    "        self.pouch_contents.append(item)\n",
    "\n",
    "\n",
    "kanga = Kangaroo('Kanga')\n",
    "roo = Kangaroo('Roo')\n",
    "kanga.put_in_pouch('wallet')\n",
    "kanga.put_in_pouch('car keys')\n",
    "kanga.put_in_pouch(roo)\n",
    "\n",
    "print(roo)\n"
   ]
  },
  {
   "cell_type": "code",
   "execution_count": 152,
   "metadata": {},
   "outputs": [
    {
     "name": "stdout",
     "output_type": "stream",
     "text": [
      "Kanga has pouch contents:\n",
      "    'wallet'\n",
      "    'car keys'\n",
      "    <__main__.Kangaroo object at 0x000001F27A6125C8>\n",
      "Roo has pouch contents:\n"
     ]
    }
   ],
   "source": [
    "class Kangaroo:\n",
    "    \"\"\"A Kangaroo is a marsupial.\"\"\"\n",
    "    \n",
    "    def __init__(self, name, contents=[]):\n",
    "        \"\"\"Initialize the pouch contents.\n",
    "\n",
    "        name: string\n",
    "        contents: initial pouch contents.\n",
    "        \"\"\"\n",
    "        # The problem is the default value for contents.\n",
    "        # Default values get evaluated ONCE, when the function\n",
    "        # is defined; they don't get evaluated again when the\n",
    "        # function is called.\n",
    "\n",
    "        # In this case that means that when __init__ is defined,\n",
    "        # [] gets evaluated and contents gets a reference to\n",
    "        # an empty list.\n",
    "\n",
    "        # After that, every Kangaroo that gets the default\n",
    "        # value gets a reference to THE SAME list.  If any\n",
    "        # Kangaroo modifies this shared list, they all see\n",
    "        # the change.\n",
    "\n",
    "        # The next version of __init__ shows an idiomatic way\n",
    "        # to avoid this problem.\n",
    "        self.name = name\n",
    "        self.pouch_contents = contents\n",
    "\n",
    "    def __init__(self, name, contents=None):\n",
    "        \"\"\"Initialize the pouch contents.\n",
    "\n",
    "        name: string\n",
    "        contents: initial pouch contents.\n",
    "        \"\"\"\n",
    "        # In this version, the default value is None.  When\n",
    "        # __init__ runs, it checks the value of contents and,\n",
    "        # if necessary, creates a new empty list.  That way,\n",
    "        # every Kangaroo that gets the default value gets a\n",
    "        # reference to a different list.\n",
    "\n",
    "        # As a general rule, you should avoid using a mutable\n",
    "        # object as a default value, unless you really know\n",
    "        # what you are doing.\n",
    "        self.name = name\n",
    "        if contents == None:\n",
    "            contents = []\n",
    "        self.pouch_contents = contents\n",
    "\n",
    "    def __str__(self):\n",
    "        \"\"\"Return a string representaion of this Kangaroo.\n",
    "        \"\"\"\n",
    "        t = [ self.name + ' has pouch contents:' ]\n",
    "        for obj in self.pouch_contents:\n",
    "            s = '    ' + object.__str__(obj)\n",
    "            t.append(s)\n",
    "        return '\\n'.join(t)\n",
    "\n",
    "    def put_in_pouch(self, item):\n",
    "        \"\"\"Adds a new item to the pouch contents.\n",
    "\n",
    "        item: object to be added\n",
    "        \"\"\"\n",
    "        self.pouch_contents.append(item)\n",
    "\n",
    "\n",
    "kanga = Kangaroo('Kanga')\n",
    "roo = Kangaroo('Roo')\n",
    "kanga.put_in_pouch('wallet')\n",
    "kanga.put_in_pouch('car keys')\n",
    "kanga.put_in_pouch(roo)\n",
    "\n",
    "print(kanga)\n",
    "print(roo)"
   ]
  },
  {
   "cell_type": "code",
   "execution_count": 15,
   "metadata": {},
   "outputs": [],
   "source": [
    "import random\n",
    "\n",
    "class Card:\n",
    "    \"\"\"Represents a standard playing card\n",
    "       all the cards are mapped numerically, \n",
    "       so all the suits correspond to an ascending \n",
    "       numerical order    \n",
    "    \"\"\"\n",
    "    \n",
    "    def __init__(self, suit=0, rank=2):\n",
    "        self.suit = suit\n",
    "        self.rank = rank\n",
    "        \n",
    "    suit_names = ['Clubs', 'Diamonds', 'Hearts', 'Spades']\n",
    "    rank_names = ['None', 'Ace', '2', '3', '4', '5', '6', '7', '8', '9', '10', 'Jack', 'Queen', 'King']\n",
    "    \n",
    "    def __str__(self):\n",
    "        return f\"{Card.rank_names[self.rank]} of {Card.suit_names[self.suit]}\"\n",
    "    \n",
    "    def __lt__(self, other):\n",
    "        t1 = (self.suit, self.rank)\n",
    "        t2 = (other.suit, other.rank)\n",
    "        return t1<t2\n",
    "\n",
    "    \n",
    "class Deck:\n",
    "    \n",
    "    def __init__(self):\n",
    "        self.cards=[]\n",
    "        for suit in range(4):\n",
    "            for rank in range(1,14):\n",
    "                card = Card(suit, rank)\n",
    "                self.cards.append(card)\n",
    "                \n",
    "    def __str__(self):\n",
    "        res = []\n",
    "        for card in self.cards:\n",
    "            res.append(str(card))\n",
    "        return '\\n'.join(res)\n",
    "    \n",
    "    def pop_card(self):\n",
    "        return self.cards.pop()\n",
    "    \n",
    "    def add_card(self, card):\n",
    "        self.cards.append(card)\n",
    "    \n",
    "    def shuffle(self):\n",
    "        random.shuffle(self.cards)\n",
    "        \n",
    "    def sort(self):\n",
    "        self.cards.sort()\n",
    "        \n",
    "    def move_cards(self, hand, num):\n",
    "        for i in range(num):\n",
    "            hand.add_card(self.pop_card())\n",
    "\n",
    "class Hand(Deck):\n",
    "    \n",
    "    def __init__(self, label=''):\n",
    "        self.cards = []\n",
    "        self.label = label\n",
    "    \n",
    "    \n",
    "#deck = Deck()\n",
    "#deck.shuffle()\n",
    "#print(deck)\n",
    "#deck.sort()\n",
    "#print(deck)\n",
    "#queen_of_diamonds = Card(suit=1, rank=12)\n",
    "#print(queen_of_diamonds)"
   ]
  },
  {
   "cell_type": "code",
   "execution_count": 2,
   "metadata": {},
   "outputs": [
    {
     "name": "stdout",
     "output_type": "stream",
     "text": [
      "10\n",
      "5.0\n",
      "16.0\n",
      "8.0\n",
      "4.0\n",
      "2.0\n",
      "The number of steps to reach 1 with the given number are 6 \n"
     ]
    }
   ],
   "source": [
    "#with while loop\n",
    "def collatz(n):\n",
    "    steps = []\n",
    "    while n != 1:\n",
    "        print(n)\n",
    "        steps.append(n)\n",
    "        if n%2 == 0:\n",
    "            n = n/2\n",
    "        else:\n",
    "            n = n*3 +1\n",
    "    print(\"The number of steps to reach 1 with the given number are {} \". format(len(steps)))\n",
    "\n",
    "collatz(10)\n"
   ]
  },
  {
   "cell_type": "code",
   "execution_count": 46,
   "metadata": {},
   "outputs": [
    {
     "data": {
      "text/plain": [
       "1"
      ]
     },
     "execution_count": 46,
     "metadata": {},
     "output_type": "execute_result"
    }
   ],
   "source": [
    "#using recursion\n",
    "def collatz(n):\n",
    "\n",
    "    if (n == 1):\n",
    "        return 0\n",
    "    elif ( n % 2 == 0):\n",
    "        return 1 + collatz(n / 2)\n",
    "    else:\n",
    "        return 1 + collatz(3 * n + 1)\n",
    "\n",
    "collatz(2)"
   ]
  },
  {
   "cell_type": "code",
   "execution_count": 21,
   "metadata": {},
   "outputs": [
    {
     "data": {
      "text/plain": [
       "{'s': 3, 'a': 1, 'u': 1, 'c': 1, 'e': 3}"
      ]
     },
     "execution_count": 21,
     "metadata": {},
     "output_type": "execute_result"
    }
   ],
   "source": [
    "def histogram(s):\n",
    "    d = dict()\n",
    "    for c in s:\n",
    "    # 's' 'a' 'u' 'c' 'e' 'e' 's' 'e' 's' - i.e. traversing through the string that is passed in\n",
    "    #d[c] - value of c, which is the passed in string, in the dictionary is assigned to the expression\n",
    "    #expression - the get method returns corresponding value of the key passed in, which is the individual letter of the string\n",
    "    #e.g. d['s'] = d.get('s',0) goes on for all the letters, the value of the key is incremented each time with the loop\n",
    "        d[c] = d.get(c,0)+1\n",
    "    return d\n",
    "histogram(\"sauceeses\")"
   ]
  },
  {
   "cell_type": "code",
   "execution_count": 22,
   "metadata": {},
   "outputs": [
    {
     "data": {
      "text/plain": [
       "2"
      ]
     },
     "execution_count": 22,
     "metadata": {},
     "output_type": "execute_result"
    }
   ],
   "source": [
    "ma = {'b' :1, 'r': 2, 'o': 2, 'n': 1, 't': 1, 's': 2, 'a': 1, 'u': 2}\n",
    "ma.get('r',0)"
   ]
  },
  {
   "cell_type": "code",
   "execution_count": 1,
   "metadata": {},
   "outputs": [
    {
     "name": "stdout",
     "output_type": "stream",
     "text": [
      "Is 15 too high (H), too low (Low) or correct (c)?l\n",
      "Is 18 too high (H), too low (Low) or correct (c)?l\n",
      "Is 20 too high (H), too low (Low) or correct (c)?c\n",
      "the guessed 20 number is correct!\n"
     ]
    }
   ],
   "source": [
    "import random\n",
    "\n",
    "def computer_guess(x):\n",
    "    low = 1\n",
    "    high = x\n",
    "    feedback = ''\n",
    "    while feedback != 'c':\n",
    "        if low != high:\n",
    "            guess = random.randint(low,high)\n",
    "        else:\n",
    "            guess=low\n",
    "        feedback = input(f'Is {guess} too high (H), too low (Low) or correct (c)?').lower()\n",
    "        if feedback == 'h':\n",
    "            high = guess-1\n",
    "        elif feedback == 'l':\n",
    "            low = guess + 1\n",
    "\n",
    "    print(f\"the guessed {guess} number is correct!\")\n",
    "\n",
    "computer_guess(15)\n"
   ]
  },
  {
   "cell_type": "code",
   "execution_count": null,
   "metadata": {},
   "outputs": [],
   "source": []
  }
 ],
 "metadata": {
  "kernelspec": {
   "display_name": "Python 3",
   "language": "python",
   "name": "python3"
  },
  "language_info": {
   "codemirror_mode": {
    "name": "ipython",
    "version": 3
   },
   "file_extension": ".py",
   "mimetype": "text/x-python",
   "name": "python",
   "nbconvert_exporter": "python",
   "pygments_lexer": "ipython3",
   "version": "3.7.4"
  }
 },
 "nbformat": 4,
 "nbformat_minor": 2
}
